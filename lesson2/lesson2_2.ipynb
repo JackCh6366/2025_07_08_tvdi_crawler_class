{
 "cells": [
  {
   "cell_type": "markdown",
   "id": "1ff15469",
   "metadata": {},
   "source": [
    "### python 基礎"
   ]
  },
  {
   "cell_type": "code",
   "execution_count": 1,
   "id": "2e7acf13",
   "metadata": {},
   "outputs": [
    {
     "name": "stdout",
     "output_type": "stream",
     "text": [
      "hello! Python!\n"
     ]
    }
   ],
   "source": [
    "print(\"hello! Python!\")"
   ]
  },
  {
   "cell_type": "code",
   "execution_count": 5,
   "id": "9b4681eb",
   "metadata": {},
   "outputs": [
    {
     "name": "stdout",
     "output_type": "stream",
     "text": [
      "Alice\n",
      "25\n",
      "1.65\n",
      "True\n",
      "Jack\n",
      "20\n",
      "185.8\n",
      "True\n"
     ]
    }
   ],
   "source": [
    "name = \"Alice\"         # 字串（string）\n",
    "age = 25               # 整數（integer）\n",
    "height = 1.65          # 浮點數（float）\n",
    "is_student = True      # 布林值（boolean）\n",
    "\n",
    "print(name)\n",
    "print(age)\n",
    "print(height)\n",
    "print(is_student)\n",
    "\n",
    "\n",
    "\n",
    "name = \"Jack\"\n",
    "age = 20\n",
    "height =185.8\n",
    "is_student = True\n",
    "print(name)\n",
    "print(age)\n",
    "print(height)\n",
    "print(is_student)"
   ]
  },
  {
   "cell_type": "code",
   "execution_count": null,
   "id": "6663fff9",
   "metadata": {},
   "outputs": [],
   "source": []
  }
 ],
 "metadata": {
  "kernelspec": {
   "display_name": "venv1",
   "language": "python",
   "name": "python3"
  },
  "language_info": {
   "codemirror_mode": {
    "name": "ipython",
    "version": 3
   },
   "file_extension": ".py",
   "mimetype": "text/x-python",
   "name": "python",
   "nbconvert_exporter": "python",
   "pygments_lexer": "ipython3",
   "version": "3.11.13"
  }
 },
 "nbformat": 4,
 "nbformat_minor": 5
}
