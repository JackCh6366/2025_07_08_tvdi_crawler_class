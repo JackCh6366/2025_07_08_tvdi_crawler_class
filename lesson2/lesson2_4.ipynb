{
 "cells": [
  {
   "cell_type": "code",
   "execution_count": null,
   "id": "f416d54e",
   "metadata": {},
   "outputs": [
    {
     "name": "stdout",
     "output_type": "stream",
     "text": [
      "你已成年,可以投票!\n"
     ]
    }
   ],
   "source": [
    "age = 18\n",
    "#雙向選擇\n",
    "if age >= 18 :\n",
    "    #True程式區塊\n",
    "    print(\"你已成年,可以投票!\")\n",
    "else:\n",
    "    #False\n",
    "    print(\"你還未成年\")"
   ]
  },
  {
   "cell_type": "code",
   "execution_count": 6,
   "id": "df40ed01",
   "metadata": {},
   "outputs": [
    {
     "name": "stdout",
     "output_type": "stream",
     "text": [
      "成績及格\n"
     ]
    }
   ],
   "source": [
    "#多項選擇\n",
    "score = 85\n",
    "if score >= 90:\n",
    "    print(\"成績優秀\")\n",
    "elif score >= 60:\n",
    "    print(\"成績及格\")\n",
    "else: \n",
    "    print(\"成績不及格\")"
   ]
  }
 ],
 "metadata": {
  "kernelspec": {
   "display_name": "venv1",
   "language": "python",
   "name": "python3"
  },
  "language_info": {
   "codemirror_mode": {
    "name": "ipython",
    "version": 3
   },
   "file_extension": ".py",
   "mimetype": "text/x-python",
   "name": "python",
   "nbconvert_exporter": "python",
   "pygments_lexer": "ipython3",
   "version": "3.11.13"
  }
 },
 "nbformat": 4,
 "nbformat_minor": 5
}
